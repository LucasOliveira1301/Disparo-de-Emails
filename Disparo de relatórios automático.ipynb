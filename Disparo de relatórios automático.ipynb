{
 "cells": [
  {
   "cell_type": "code",
   "execution_count": 2,
   "metadata": {},
   "outputs": [],
   "source": [
    "import pandas as pd\n",
    "import win32com.client as win32\n",
    "outlook = win32.Dispatch('outlook.application')"
   ]
  },
  {
   "cell_type": "code",
   "execution_count": 9,
   "metadata": {},
   "outputs": [],
   "source": [
    "gerentes_df = pd.read_excel('Enviar E-mails.xlsx')\n",
    "\n",
    "for i, email in enumerate(gerentes_df['E-mail']):\n",
    "    gerente = gerentes_df.loc[i, 'Gerente']\n",
    "    area = gerentes_df.loc[i, 'Relatório']\n",
    "    \n",
    "    mail = outlook.CreateItem(0)\n",
    "    mail.To = email\n",
    "    mail.Subject = f'Relatório de {area}'\n",
    "    mail.Body = f'''\n",
    "        Boa tarde {gerente},\n",
    "        \n",
    "        Segue relatório de {area}\n",
    "    \n",
    "    '''\n",
    "    anexo = r'C:\\Users\\olive\\Downloads\\{}.xlsx'.format(area)\n",
    "    mail.Attachments.Add(anexo) #Colocando anexo\n",
    "    mail.Send() #Enviar"
   ]
  }
 ],
 "metadata": {
  "kernelspec": {
   "display_name": "Python 3",
   "language": "python",
   "name": "python3"
  },
  "language_info": {
   "codemirror_mode": {
    "name": "ipython",
    "version": 3
   },
   "file_extension": ".py",
   "mimetype": "text/x-python",
   "name": "python",
   "nbconvert_exporter": "python",
   "pygments_lexer": "ipython3",
   "version": "3.8.5"
  }
 },
 "nbformat": 4,
 "nbformat_minor": 4
}
